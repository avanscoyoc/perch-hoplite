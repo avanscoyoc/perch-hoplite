{
  "cells": [
    {
      "cell_type": "markdown",
      "metadata": {
        "id": "2QfDwaWNTZCZ"
      },
      "source": [
        "# Overview\n",
        "\n",
        "This notebook uses perch-hoplite to compute and save embeddings for set of audio files using a pre-trained model. This is the first step in the agile modeling process. If the data you wish to search and classify is already embedded with a pre-trained model into a perch-hoplite database, then proceed to the step 2 colab notebook ([2_agile_modeling_v2.ipynb](https://github.com/google-research/perch-hoplite/blob/main/perch_hoplite/agile/2_agile_modeling_v2.ipynb))."
      ]
    },
    {
      "cell_type": "markdown",
      "metadata": {
        "id": "1Db84ySxSJYA"
      },
      "source": [
        "## [Optional] perch-hoplite installation for hosted runtimes\n",
        "\n",
        "If you have not already installed perch-hoplite (particularly if you are using a hosted Colab runtime), make sure to install perch-hoplite from the Github source to ensure the most recent version is installed. After installation, you will need to restart your runtime before running anything else. Go to the top menu, select \"Runtime\" then \"Restart Session\"."
      ]
    },
    {
      "cell_type": "code",
      "execution_count": null,
      "metadata": {
        "id": "D7bUZkS_Rawd",
        "vscode": {
          "languageId": "shellscript"
        }
      },
      "outputs": [],
      "source": [
        "#@title Only run this code if you need to install perch-hoplite\n",
        "#!pip install git+https://github.com/google-research/perch-hoplite.git"
      ]
    },
    {
      "cell_type": "code",
      "execution_count": 1,
      "metadata": {
        "id": "GTtVnkC-6_i7"
      },
      "outputs": [],
      "source": [
        "# @title Imports\n",
        "from etils import epath\n",
        "from IPython.display import display\n",
        "import ipywidgets as widgets\n",
        "import numpy as np\n",
        "from perch_hoplite.agile import colab_utils\n",
        "from perch_hoplite.agile import embed\n",
        "from perch_hoplite.agile import source_info\n",
        "from perch_hoplite.db import brutalism\n",
        "from perch_hoplite.db import interface"
      ]
    },
    {
      "cell_type": "markdown",
      "metadata": {
        "id": "4T4vILrO80iP"
      },
      "source": [
        "# Embed the audio data"
      ]
    },
    {
      "cell_type": "code",
      "execution_count": null,
      "metadata": {
        "id": "c6zdGxl68vft"
      },
      "outputs": [
        {
          "data": {
            "text/plain": [
              "AgileConfigs(audio_sources_config=AudioSources(audio_globs=(AudioSourceConfig(dataset_name='mojave_data', base_path='/workspace/mojave_data', file_glob='BD-*/*.wav', min_audio_len_s=1.0, target_sample_rate_hz=-2, shard_len_s=60.0, max_shards_per_file=None),)), db_config=DBConfig(db_key='sqlite_usearch', db_config=db_path: !!python/object/apply:etils.epath.gpath.PosixGPath\n",
              "- /\n",
              "- workspace\n",
              "- mojave_data\n",
              "usearch_cfg:\n",
              "  dtype: float16\n",
              "  embedding_dim: 1280\n",
              "  expansion_add: 256\n",
              "  expansion_search: 128\n",
              "  metric_name: IP\n",
              "), model_config=ModelConfig(model_key='taxonomy_model_tf', embedding_dim=1280, model_config=hop_size_s: 5.0\n",
              "model_path: ''\n",
              "sample_rate: 32000\n",
              "tfhub_version: 8\n",
              "window_size_s: 5.0\n",
              "))"
            ]
          },
          "execution_count": 2,
          "metadata": {},
          "output_type": "execute_result"
        }
      ],
      "source": [
        "# @title Configuration { vertical-output: true }\n",
        "\n",
        "# @markdown Configure the raw dataset and output location(s).  The format is a mapping from\n",
        "# @markdown a dataset_name to a (base_path, fileglob) pair.  Note that the file\n",
        "# @markdown globs are case sensitive.  The dataset name can be anything you want.\n",
        "#\n",
        "# @markdown This structure allows you to move your data around without having to\n",
        "# @markdown re-embed the dataset.  The generated embedding database will be\n",
        "# @markdown placed in the base path. This allows you to simply swap out\n",
        "# @markdown the base path here if you ever move your dataset.\n",
        "\n",
        "# @markdown By default we only process one dataset at a time.  Re-run this entire notebook\n",
        "# @markdown once per dataset.\n",
        "\n",
        "# @markdown For example, we might set dataset_base_path to '/home/me/myproject',\n",
        "# @markdown and use the glob '\\*/\\*.wav' if all of the audio files have filepaths\n",
        "# @markdown like '/home/me/myproject/site_XYZ/audio_ABC.wav' (e.g. audio files are contained in subfolders of the base directory).\n",
        "\n",
        "# @markdown 1. Create a unique name for the database that will store the embeddings for the target data.\n",
        "dataset_name = 'mojave_data'  # @param {type:'string'}\n",
        "# @markdown 2. Input the filepath for the folder that is containing the input audio files.\n",
        "dataset_base_path = '/workspace/mojave_data'  #@param {type:'string'}\n",
        "# @markdown 3. Input the file pattern for the audio files within that folder that you want to embed. Some examples for how to input:\n",
        "# @markdown - All files in the base directory of a specific type (not subdirectories): e.g. `*.wav` (or `*.flac` etc) will generate embeddings for all .wav files (or whichever format) in the dataset_base_path\n",
        "# @markdown - All files in one level of subdirectories within the base directory: `*/*.flac` will generate embeddings for all .flac files\n",
        "# @markdown - Single file: `myfile.wav` will only embed the audio from that specific file.\n",
        "dataset_fileglob = 'BD-*/*.wav'  # @param {type:'string'}\n",
        "\n",
        "# @markdown 4. [Optional] If saving the embeddings database to a new directory, specify here.\n",
        "# @markdown Otherwise, leave blank - by default the embeddings database output will be saved within\n",
        "# @markdown dataset_base_path where the audio is located. You do not need to specify db_path unless you want to maintain multiple\n",
        "# @markdown distinct embedding databases, or if you would like to save the output\n",
        "# @markdown in a different folder. If your input audio data is accessed\n",
        "# @markdown from a public URL, we recommend specifying a separate output directory here.\n",
        "db_path = ''  # @param {type:'string'}\n",
        "if not db_path or db_path == 'None':\n",
        "  db_path = None\n",
        "\n",
        "# @markdown 5. Choose a supported model to generate embeddings: `perch_8` or `birdnet_v2.3` are most common\n",
        "# @markdown for birds. Other choices include `surfperch` for coral reefs or\n",
        "# @markdown `multispecies_whale` for marine mammals.\n",
        "model_choice = 'perch_8'  #@param['perch_8', 'humpback', 'multispecies_whale', 'surfperch', 'birdnet_V2.3']\n",
        "\n",
        "# @markdown 6. [Optional] Shard the audio for embeddings. File sharding automatically splits audio files into smaller chunks\n",
        "# @markdown for creating embeddings. This limits both system and GPU memory usage,\n",
        "# @markdown especially useful when working with long files (>1 hour).\n",
        "use_file_sharding = True  # @param {type:'boolean'}\n",
        "# @markdown If you want to change the length in seconds for the shards, specify here.\n",
        "shard_length_in_seconds = 60  # @param {type:'number'}\n",
        "\n",
        "audio_glob = source_info.AudioSourceConfig(\n",
        "    dataset_name=dataset_name,\n",
        "    base_path=dataset_base_path,\n",
        "    file_glob=dataset_fileglob,\n",
        "    min_audio_len_s=1.0,\n",
        "    target_sample_rate_hz=-2,\n",
        "    shard_len_s=float(shard_length_in_seconds) if use_file_sharding else None,\n",
        ")\n",
        "\n",
        "configs = colab_utils.load_configs(\n",
        "    source_info.AudioSources((audio_glob,)),\n",
        "    db_path,\n",
        "    model_config_key=model_choice,\n",
        "    db_key='sqlite_usearch',\n",
        ")\n",
        "configs"
      ]
    },
    {
      "cell_type": "code",
      "execution_count": 3,
      "metadata": {
        "id": "NN9Uyy1yqAWS"
      },
      "outputs": [
        {
          "name": "stdout",
          "output_type": "stream",
          "text": [
            "Initialized DB located at  /workspace/mojave_data\n"
          ]
        }
      ],
      "source": [
        "#@title Initialize the hoplite database (DB) { vertical-output: true }\n",
        "global db\n",
        "db = configs.db_config.load_db()\n",
        "num_embeddings = db.count_embeddings()\n",
        "\n",
        "print('Initialized DB located at ', configs.db_config.db_config.db_path)\n",
        "\n",
        "def drop_and_reload_db(_) -> interface.HopliteDBInterface:\n",
        "  db_path = epath.Path(configs.db_config.db_config.db_path)\n",
        "  for fp in db_path.glob('hoplite.sqlite*'):\n",
        "    fp.unlink()\n",
        "  (db_path / 'usearch.index').unlink()\n",
        "  print('\\n Deleted previous db at: ', configs.db_config.db_config.db_path)\n",
        "  db = configs.db_config.load_db()\n",
        "\n",
        "#@markdown If `drop_existing_db` set to True, when the database already exists and contains embeddings,\n",
        "#@markdown then those existing embeddings will be erased. You will be prompted to confirm you wish to delete those existing\n",
        "#@markdown embeddings. If you want to keep existing embeddings in the database, then set to False, which will append the new\n",
        "#@markdown embeddings to the database.\n",
        "drop_existing_db = True  #@param {type:'boolean'}\n",
        "\n",
        "if num_embeddings > 0 and drop_existing_db:\n",
        "  print('Existing DB contains datasets: ', db.get_dataset_names())\n",
        "  print('num embeddings: ', num_embeddings)\n",
        "  print('\\n\\nClick the button below to confirm you really want to drop the database at ')\n",
        "  print(f'{configs.db_config.db_config.db_path}\\n')\n",
        "  print(f'This will permanently delete all {num_embeddings} embeddings from the existing database.\\n')\n",
        "  print('If you do NOT want to delete this data, set `drop_existing_db` above to `False` and re-run this cell.\\n')\n",
        "\n",
        "  button = widgets.Button(description='Delete database?')\n",
        "  button.on_click(drop_and_reload_db)\n",
        "  display(button)"
      ]
    },
    {
      "cell_type": "code",
      "execution_count": 4,
      "metadata": {
        "id": "MnGWbhc0LhiU"
      },
      "outputs": [
        {
          "name": "stdout",
          "output_type": "stream",
          "text": [
            "Embedding dataset: mojave_data\n"
          ]
        },
        {
          "name": "stderr",
          "output_type": "stream",
          "text": [
            "/workspace/.venv/lib/python3.11/site-packages/tensorflow_hub/__init__.py:61: UserWarning: pkg_resources is deprecated as an API. See https://setuptools.pypa.io/en/latest/pkg_resources.html. The pkg_resources package is slated for removal as early as 2025-11-30. Refrain from using this package or pin to Setuptools<81.\n",
            "  from pkg_resources import parse_version\n",
            "2025-08-07 19:50:19.044961: W external/local_xla/xla/tsl/framework/cpu_allocator_impl.cc:83] Allocation of 55971840 exceeds 10% of free system memory.\n",
            "2025-08-07 19:50:19.135630: W external/local_xla/xla/tsl/framework/cpu_allocator_impl.cc:83] Allocation of 11944960 exceeds 10% of free system memory.\n",
            "  0%|          | 0/1 [00:00<?, ?it/s]WARNING: All log messages before absl::InitializeLog() is called are written to STDERR\n",
            "I0000 00:00:1754596220.376616   12039 service.cc:152] XLA service 0xaaaaf667e8c0 initialized for platform Host (this does not guarantee that XLA will be used). Devices:\n",
            "I0000 00:00:1754596220.376707   12039 service.cc:160]   StreamExecutor device (0): Host, Default Version\n",
            "2025-08-07 19:50:20.578555: I tensorflow/compiler/mlir/tensorflow/utils/dump_mlir_util.cc:269] disabling MLIR crash reproducer, set env var `MLIR_CRASH_REPRODUCER_DIRECTORY` to enable.\n",
            "2025-08-07 19:50:20.592734: W tensorflow/compiler/tf2xla/kernels/assert_op.cc:39] Ignoring Assert operator jax2tf_infer_fn_/assert_equal_1/Assert/AssertGuard/Assert\n",
            "I0000 00:00:1754596221.382472   12039 device_compiler.h:188] Compiled cluster using XLA!  This line is logged at most once for the lifetime of the process.\n",
            "2025-08-07 19:50:21.388626: W external/local_xla/xla/tsl/framework/cpu_allocator_impl.cc:83] Allocation of 181400224 exceeds 10% of free system memory.\n",
            "2025-08-07 19:50:23.476240: W external/local_xla/xla/tsl/framework/cpu_allocator_impl.cc:83] Allocation of 181400224 exceeds 10% of free system memory.\n",
            "2025-08-07 19:50:24.367422: W external/local_xla/xla/tsl/framework/cpu_allocator_impl.cc:83] Allocation of 181400224 exceeds 10% of free system memory.\n",
            "WARNING:absl:The audio at (/workspace/mojave_data/BD-29050A/20230520_000000.wav / 8340.000000) could not be loaded (embeddings already exist). The exception was (no_exception)\n",
            "WARNING:absl:The audio at (/workspace/mojave_data/BD-29050A/20230520_000000.wav / 8580.000000) could not be loaded (embeddings already exist). The exception was (no_exception)\n",
            "WARNING:absl:The audio at (/workspace/mojave_data/BD-29050A/20230520_000000.wav / 8820.000000) could not be loaded (embeddings already exist). The exception was (no_exception)\n",
            "WARNING:absl:The audio at (/workspace/mojave_data/BD-29050A/20230520_000000.wav / 9060.000000) could not be loaded (embeddings already exist). The exception was (no_exception)\n",
            "WARNING:absl:The audio at (/workspace/mojave_data/BD-29050A/20230520_000000.wav / 9300.000000) could not be loaded (embeddings already exist). The exception was (no_exception)\n",
            "WARNING:absl:The audio at (/workspace/mojave_data/BD-29050A/20230520_000000.wav / 9540.000000) could not be loaded (embeddings already exist). The exception was (no_exception)\n",
            "WARNING:absl:The audio at (/workspace/mojave_data/BD-29050A/20230520_000000.wav / 9780.000000) could not be loaded (embeddings already exist). The exception was (no_exception)\n",
            "WARNING:absl:The audio at (/workspace/mojave_data/BD-29050A/20230520_000000.wav / 10020.000000) could not be loaded (embeddings already exist). The exception was (no_exception)\n",
            "WARNING:absl:The audio at (/workspace/mojave_data/BD-29050A/20230520_000000.wav / 10260.000000) could not be loaded (embeddings already exist). The exception was (no_exception)\n",
            "WARNING:absl:The audio at (/workspace/mojave_data/BD-29050A/20230520_000000.wav / 10500.000000) could not be loaded (embeddings already exist). The exception was (no_exception)\n",
            "WARNING:absl:The audio at (/workspace/mojave_data/BD-29050A/20230520_000000.wav / 10740.000000) could not be loaded (embeddings already exist). The exception was (no_exception)\n",
            "WARNING:absl:The audio at (/workspace/mojave_data/BD-29050A/20230520_000000.wav / 10980.000000) could not be loaded (embeddings already exist). The exception was (no_exception)\n",
            "WARNING:absl:The audio at (/workspace/mojave_data/BD-29050A/20230520_000000.wav / 11220.000000) could not be loaded (embeddings already exist). The exception was (no_exception)\n",
            "WARNING:absl:The audio at (/workspace/mojave_data/BD-29050A/20230520_000000.wav / 11460.000000) could not be loaded (embeddings already exist). The exception was (no_exception)\n",
            "WARNING:absl:The audio at (/workspace/mojave_data/BD-29050A/20230520_000000.wav / 11700.000000) could not be loaded (embeddings already exist). The exception was (no_exception)\n",
            "WARNING:absl:The audio at (/workspace/mojave_data/BD-29050A/20230520_000000.wav / 11940.000000) could not be loaded (embeddings already exist). The exception was (no_exception)\n",
            "WARNING:absl:The audio at (/workspace/mojave_data/BD-29050A/20230520_000000.wav / 12180.000000) could not be loaded (embeddings already exist). The exception was (no_exception)\n",
            "WARNING:absl:The audio at (/workspace/mojave_data/BD-29050A/20230520_000000.wav / 12420.000000) could not be loaded (embeddings already exist). The exception was (no_exception)\n",
            "WARNING:absl:The audio at (/workspace/mojave_data/BD-29050A/20230520_000000.wav / 12660.000000) could not be loaded (embeddings already exist). The exception was (no_exception)\n",
            "WARNING:absl:The audio at (/workspace/mojave_data/BD-29050A/20230520_000000.wav / 12900.000000) could not be loaded (embeddings already exist). The exception was (no_exception)\n",
            "WARNING:absl:The audio at (/workspace/mojave_data/BD-29050A/20230520_000000.wav / 13140.000000) could not be loaded (embeddings already exist). The exception was (no_exception)\n",
            "WARNING:absl:The audio at (/workspace/mojave_data/BD-29050A/20230520_000000.wav / 13380.000000) could not be loaded (embeddings already exist). The exception was (no_exception)\n",
            "WARNING:absl:The audio at (/workspace/mojave_data/BD-29050A/20230520_000000.wav / 13620.000000) could not be loaded (embeddings already exist). The exception was (no_exception)\n",
            "WARNING:absl:The audio at (/workspace/mojave_data/BD-29050A/20230520_000000.wav / 13860.000000) could not be loaded (embeddings already exist). The exception was (no_exception)\n",
            "WARNING:absl:The audio at (/workspace/mojave_data/BD-29050A/20230520_000000.wav / 14100.000000) could not be loaded (embeddings already exist). The exception was (no_exception)\n",
            "WARNING:absl:The audio at (/workspace/mojave_data/BD-29050A/20230520_000000.wav / 14340.000000) could not be loaded (embeddings already exist). The exception was (no_exception)\n",
            "WARNING:absl:The audio at (/workspace/mojave_data/BD-29050A/20230520_000000.wav / 14580.000000) could not be loaded (embeddings already exist). The exception was (no_exception)\n",
            "WARNING:absl:The audio at (/workspace/mojave_data/BD-29050A/20230520_000000.wav / 14820.000000) could not be loaded (embeddings already exist). The exception was (no_exception)\n",
            "WARNING:absl:The audio at (/workspace/mojave_data/BD-29050A/20230520_000000.wav / 15060.000000) could not be loaded (embeddings already exist). The exception was (no_exception)\n",
            "WARNING:absl:The audio at (/workspace/mojave_data/BD-29050A/20230520_000000.wav / 15300.000000) could not be loaded (embeddings already exist). The exception was (no_exception)\n",
            "WARNING:absl:The audio at (/workspace/mojave_data/BD-29050A/20230520_000000.wav / 15540.000000) could not be loaded (embeddings already exist). The exception was (no_exception)\n",
            "WARNING:absl:The audio at (/workspace/mojave_data/BD-29050A/20230520_000000.wav / 15780.000000) could not be loaded (embeddings already exist). The exception was (no_exception)\n",
            "WARNING:absl:The audio at (/workspace/mojave_data/BD-29050A/20230520_000000.wav / 16020.000000) could not be loaded (embeddings already exist). The exception was (no_exception)\n",
            "WARNING:absl:The audio at (/workspace/mojave_data/BD-29050A/20230520_000000.wav / 16260.000000) could not be loaded (embeddings already exist). The exception was (no_exception)\n",
            "WARNING:absl:The audio at (/workspace/mojave_data/BD-29050A/20230520_000000.wav / 16500.000000) could not be loaded (embeddings already exist). The exception was (no_exception)\n",
            "WARNING:absl:The audio at (/workspace/mojave_data/BD-29050A/20230520_000000.wav / 16680.000000) could not be loaded (embeddings already exist). The exception was (no_exception)\n",
            "WARNING:absl:The audio at (/workspace/mojave_data/BD-29050A/20230520_000000.wav / 16800.000000) could not be loaded (embeddings already exist). The exception was (no_exception)\n",
            "WARNING:absl:The audio at (/workspace/mojave_data/BD-29050A/20230520_000000.wav / 16980.000000) could not be loaded (embeddings already exist). The exception was (no_exception)\n",
            "WARNING:absl:The audio at (/workspace/mojave_data/BD-29050A/20230520_000000.wav / 17160.000000) could not be loaded (embeddings already exist). The exception was (no_exception)\n",
            "WARNING:absl:The audio at (/workspace/mojave_data/BD-29050A/20230520_000000.wav / 17280.000000) could not be loaded (embeddings already exist). The exception was (no_exception)\n",
            "WARNING:absl:The audio at (/workspace/mojave_data/BD-29050A/20230520_000000.wav / 17460.000000) could not be loaded (embeddings already exist). The exception was (no_exception)\n",
            "WARNING:absl:The audio at (/workspace/mojave_data/BD-29050A/20230520_000000.wav / 17640.000000) could not be loaded (embeddings already exist). The exception was (no_exception)\n",
            "WARNING:absl:The audio at (/workspace/mojave_data/BD-29050A/20230520_000000.wav / 17760.000000) could not be loaded (embeddings already exist). The exception was (no_exception)\n",
            "WARNING:absl:The audio at (/workspace/mojave_data/BD-29050A/20230520_000000.wav / 17940.000000) could not be loaded (embeddings already exist). The exception was (no_exception)\n",
            "WARNING:absl:The audio at (/workspace/mojave_data/BD-29050A/20230520_000000.wav / 18120.000000) could not be loaded (embeddings already exist). The exception was (no_exception)\n",
            "WARNING:absl:The audio at (/workspace/mojave_data/BD-29050A/20230520_000000.wav / 18240.000000) could not be loaded (embeddings already exist). The exception was (no_exception)\n",
            "WARNING:absl:The audio at (/workspace/mojave_data/BD-29050A/20230520_000000.wav / 18420.000000) could not be loaded (embeddings already exist). The exception was (no_exception)\n",
            "WARNING:absl:The audio at (/workspace/mojave_data/BD-29050A/20230520_000000.wav / 18600.000000) could not be loaded (embeddings already exist). The exception was (no_exception)\n",
            "WARNING:absl:The audio at (/workspace/mojave_data/BD-29050A/20230520_000000.wav / 18720.000000) could not be loaded (embeddings already exist). The exception was (no_exception)\n",
            "WARNING:absl:The audio at (/workspace/mojave_data/BD-29050A/20230520_000000.wav / 18900.000000) could not be loaded (embeddings already exist). The exception was (no_exception)\n",
            "WARNING:absl:The audio at (/workspace/mojave_data/BD-29050A/20230520_000000.wav / 19080.000000) could not be loaded (embeddings already exist). The exception was (no_exception)\n",
            "WARNING:absl:The audio at (/workspace/mojave_data/BD-29050A/20230520_000000.wav / 19200.000000) could not be loaded (embeddings already exist). The exception was (no_exception)\n",
            "WARNING:absl:The audio at (/workspace/mojave_data/BD-29050A/20230520_000000.wav / 19380.000000) could not be loaded (embeddings already exist). The exception was (no_exception)\n",
            "WARNING:absl:The audio at (/workspace/mojave_data/BD-29050A/20230520_000000.wav / 19560.000000) could not be loaded (embeddings already exist). The exception was (no_exception)\n",
            "WARNING:absl:The audio at (/workspace/mojave_data/BD-29050A/20230520_000000.wav / 19680.000000) could not be loaded (embeddings already exist). The exception was (no_exception)\n",
            "WARNING:absl:The audio at (/workspace/mojave_data/BD-29050A/20230520_000000.wav / 19860.000000) could not be loaded (embeddings already exist). The exception was (no_exception)\n",
            "WARNING:absl:The audio at (/workspace/mojave_data/BD-29050A/20230520_000000.wav / 20040.000000) could not be loaded (embeddings already exist). The exception was (no_exception)\n",
            "WARNING:absl:The audio at (/workspace/mojave_data/BD-29050A/20230520_000000.wav / 20160.000000) could not be loaded (embeddings already exist). The exception was (no_exception)\n",
            "WARNING:absl:The audio at (/workspace/mojave_data/BD-29050A/20230520_000000.wav / 20340.000000) could not be loaded (embeddings already exist). The exception was (no_exception)\n",
            "WARNING:absl:The audio at (/workspace/mojave_data/BD-29050A/20230520_000000.wav / 20520.000000) could not be loaded (embeddings already exist). The exception was (no_exception)\n",
            "WARNING:absl:The audio at (/workspace/mojave_data/BD-29050A/20230520_000000.wav / 20640.000000) could not be loaded (embeddings already exist). The exception was (no_exception)\n",
            "WARNING:absl:The audio at (/workspace/mojave_data/BD-29050A/20230520_000000.wav / 20820.000000) could not be loaded (embeddings already exist). The exception was (no_exception)\n",
            "WARNING:absl:The audio at (/workspace/mojave_data/BD-29050A/20230520_000000.wav / 21000.000000) could not be loaded (embeddings already exist). The exception was (no_exception)\n",
            "WARNING:absl:The audio at (/workspace/mojave_data/BD-29050A/20230520_000000.wav / 21120.000000) could not be loaded (embeddings already exist). The exception was (no_exception)\n",
            "WARNING:absl:The audio at (/workspace/mojave_data/BD-29050A/20230520_000000.wav / 21300.000000) could not be loaded (embeddings already exist). The exception was (no_exception)\n",
            "WARNING:absl:The audio at (/workspace/mojave_data/BD-29050A/20230520_000000.wav / 21480.000000) could not be loaded (embeddings already exist). The exception was (no_exception)\n",
            "WARNING:absl:The audio at (/workspace/mojave_data/BD-29050A/20230520_000000.wav / 21600.000000) could not be loaded (embeddings already exist). The exception was (no_exception)\n",
            "WARNING:absl:The audio at (/workspace/mojave_data/BD-29050A/20230520_000000.wav / 21780.000000) could not be loaded (embeddings already exist). The exception was (no_exception)\n",
            "WARNING:absl:The audio at (/workspace/mojave_data/BD-29050A/20230520_000000.wav / 21960.000000) could not be loaded (embeddings already exist). The exception was (no_exception)\n",
            "WARNING:absl:The audio at (/workspace/mojave_data/BD-29050A/20230520_000000.wav / 22080.000000) could not be loaded (embeddings already exist). The exception was (no_exception)\n",
            "WARNING:absl:The audio at (/workspace/mojave_data/BD-29050A/20230520_000000.wav / 22260.000000) could not be loaded (embeddings already exist). The exception was (no_exception)\n",
            "WARNING:absl:The audio at (/workspace/mojave_data/BD-29050A/20230520_000000.wav / 22440.000000) could not be loaded (embeddings already exist). The exception was (no_exception)\n",
            "WARNING:absl:The audio at (/workspace/mojave_data/BD-29050A/20230520_000000.wav / 22560.000000) could not be loaded (embeddings already exist). The exception was (no_exception)\n",
            "WARNING:absl:The audio at (/workspace/mojave_data/BD-29050A/20230520_000000.wav / 22740.000000) could not be loaded (embeddings already exist). The exception was (no_exception)\n",
            "WARNING:absl:The audio at (/workspace/mojave_data/BD-29050A/20230520_000000.wav / 22920.000000) could not be loaded (embeddings already exist). The exception was (no_exception)\n",
            "WARNING:absl:The audio at (/workspace/mojave_data/BD-29050A/20230520_000000.wav / 23040.000000) could not be loaded (embeddings already exist). The exception was (no_exception)\n",
            "WARNING:absl:The audio at (/workspace/mojave_data/BD-29050A/20230520_000000.wav / 23220.000000) could not be loaded (embeddings already exist). The exception was (no_exception)\n",
            "WARNING:absl:The audio at (/workspace/mojave_data/BD-29050A/20230520_000000.wav / 23400.000000) could not be loaded (embeddings already exist). The exception was (no_exception)\n",
            "WARNING:absl:The audio at (/workspace/mojave_data/BD-29050A/20230520_000000.wav / 23520.000000) could not be loaded (embeddings already exist). The exception was (no_exception)\n",
            "WARNING:absl:The audio at (/workspace/mojave_data/BD-29050A/20230520_000000.wav / 23700.000000) could not be loaded (embeddings already exist). The exception was (no_exception)\n",
            "WARNING:absl:The audio at (/workspace/mojave_data/BD-29050A/20230520_000000.wav / 23880.000000) could not be loaded (embeddings already exist). The exception was (no_exception)\n",
            "WARNING:absl:The audio at (/workspace/mojave_data/BD-29050A/20230520_000000.wav / 24000.000000) could not be loaded (embeddings already exist). The exception was (no_exception)\n",
            "WARNING:absl:The audio at (/workspace/mojave_data/BD-29050A/20230520_000000.wav / 24180.000000) could not be loaded (embeddings already exist). The exception was (no_exception)\n",
            "WARNING:absl:The audio at (/workspace/mojave_data/BD-29050A/20230520_000000.wav / 24360.000000) could not be loaded (embeddings already exist). The exception was (no_exception)\n",
            "WARNING:absl:The audio at (/workspace/mojave_data/BD-29050A/20230520_000000.wav / 24480.000000) could not be loaded (embeddings already exist). The exception was (no_exception)\n",
            "WARNING:absl:The audio at (/workspace/mojave_data/BD-29050A/20230520_000000.wav / 24660.000000) could not be loaded (embeddings already exist). The exception was (no_exception)\n",
            "WARNING:absl:The audio at (/workspace/mojave_data/BD-29050A/20230520_000000.wav / 24840.000000) could not be loaded (embeddings already exist). The exception was (no_exception)\n",
            "WARNING:absl:The audio at (/workspace/mojave_data/BD-29050A/20230520_000000.wav / 24960.000000) could not be loaded (embeddings already exist). The exception was (no_exception)\n",
            "WARNING:absl:The audio at (/workspace/mojave_data/BD-29050A/20230520_000000.wav / 25140.000000) could not be loaded (embeddings already exist). The exception was (no_exception)\n",
            "WARNING:absl:The audio at (/workspace/mojave_data/BD-29050A/20230520_000000.wav / 25320.000000) could not be loaded (embeddings already exist). The exception was (no_exception)\n",
            "WARNING:absl:The audio at (/workspace/mojave_data/BD-29050A/20230520_000000.wav / 25440.000000) could not be loaded (embeddings already exist). The exception was (no_exception)\n",
            "WARNING:absl:The audio at (/workspace/mojave_data/BD-29050A/20230520_000000.wav / 25620.000000) could not be loaded (embeddings already exist). The exception was (no_exception)\n",
            "WARNING:absl:The audio at (/workspace/mojave_data/BD-29050A/20230520_000000.wav / 25800.000000) could not be loaded (embeddings already exist). The exception was (no_exception)\n",
            "WARNING:absl:The audio at (/workspace/mojave_data/BD-29050A/20230520_000000.wav / 25920.000000) could not be loaded (embeddings already exist). The exception was (no_exception)\n",
            "WARNING:absl:The audio at (/workspace/mojave_data/BD-29050A/20230520_000000.wav / 26100.000000) could not be loaded (embeddings already exist). The exception was (no_exception)\n",
            "WARNING:absl:The audio at (/workspace/mojave_data/BD-29050A/20230520_000000.wav / 26280.000000) could not be loaded (embeddings already exist). The exception was (no_exception)\n",
            "WARNING:absl:The audio at (/workspace/mojave_data/BD-29050A/20230520_000000.wav / 26400.000000) could not be loaded (embeddings already exist). The exception was (no_exception)\n",
            "WARNING:absl:The audio at (/workspace/mojave_data/BD-29050A/20230520_000000.wav / 26580.000000) could not be loaded (embeddings already exist). The exception was (no_exception)\n",
            "WARNING:absl:The audio at (/workspace/mojave_data/BD-29050A/20230520_000000.wav / 26760.000000) could not be loaded (embeddings already exist). The exception was (no_exception)\n",
            "WARNING:absl:The audio at (/workspace/mojave_data/BD-29050A/20230520_000000.wav / 26880.000000) could not be loaded (embeddings already exist). The exception was (no_exception)\n",
            "WARNING:absl:The audio at (/workspace/mojave_data/BD-29050A/20230520_000000.wav / 27060.000000) could not be loaded (embeddings already exist). The exception was (no_exception)\n",
            "WARNING:absl:The audio at (/workspace/mojave_data/BD-29050A/20230520_000000.wav / 27240.000000) could not be loaded (embeddings already exist). The exception was (no_exception)\n",
            "WARNING:absl:The audio at (/workspace/mojave_data/BD-29050A/20230520_000000.wav / 27360.000000) could not be loaded (embeddings already exist). The exception was (no_exception)\n",
            "WARNING:absl:The audio at (/workspace/mojave_data/BD-29050A/20230520_000000.wav / 27540.000000) could not be loaded (embeddings already exist). The exception was (no_exception)\n",
            "WARNING:absl:The audio at (/workspace/mojave_data/BD-29050A/20230520_000000.wav / 27720.000000) could not be loaded (embeddings already exist). The exception was (no_exception)\n",
            "WARNING:absl:The audio at (/workspace/mojave_data/BD-29050A/20230520_000000.wav / 27840.000000) could not be loaded (embeddings already exist). The exception was (no_exception)\n",
            "WARNING:absl:The audio at (/workspace/mojave_data/BD-29050A/20230520_000000.wav / 28020.000000) could not be loaded (embeddings already exist). The exception was (no_exception)\n",
            "WARNING:absl:The audio at (/workspace/mojave_data/BD-29050A/20230520_000000.wav / 28200.000000) could not be loaded (embeddings already exist). The exception was (no_exception)\n",
            "WARNING:absl:The audio at (/workspace/mojave_data/BD-29050A/20230520_000000.wav / 28320.000000) could not be loaded (embeddings already exist). The exception was (no_exception)\n",
            "WARNING:absl:The audio at (/workspace/mojave_data/BD-29050A/20230520_000000.wav / 28500.000000) could not be loaded (embeddings already exist). The exception was (no_exception)\n",
            "WARNING:absl:The audio at (/workspace/mojave_data/BD-29050A/20230520_000000.wav / 28680.000000) could not be loaded (embeddings already exist). The exception was (no_exception)\n",
            "WARNING:absl:The audio at (/workspace/mojave_data/BD-29050A/20230520_000000.wav / 28800.000000) could not be loaded (embeddings already exist). The exception was (no_exception)\n",
            "WARNING:absl:The audio at (/workspace/mojave_data/BD-29050A/20230520_000000.wav / 28980.000000) could not be loaded (embeddings already exist). The exception was (no_exception)\n",
            "WARNING:absl:The audio at (/workspace/mojave_data/BD-29050A/20230520_000000.wav / 29160.000000) could not be loaded (embeddings already exist). The exception was (no_exception)\n",
            "WARNING:absl:The audio at (/workspace/mojave_data/BD-29050A/20230520_000000.wav / 29280.000000) could not be loaded (embeddings already exist). The exception was (no_exception)\n",
            "WARNING:absl:The audio at (/workspace/mojave_data/BD-29050A/20230520_000000.wav / 29460.000000) could not be loaded (embeddings already exist). The exception was (no_exception)\n",
            "WARNING:absl:The audio at (/workspace/mojave_data/BD-29050A/20230520_000000.wav / 29640.000000) could not be loaded (embeddings already exist). The exception was (no_exception)\n",
            "WARNING:absl:The audio at (/workspace/mojave_data/BD-29050A/20230520_000000.wav / 29760.000000) could not be loaded (embeddings already exist). The exception was (no_exception)\n",
            "WARNING:absl:The audio at (/workspace/mojave_data/BD-29050A/20230520_000000.wav / 29940.000000) could not be loaded (embeddings already exist). The exception was (no_exception)\n",
            "WARNING:absl:The audio at (/workspace/mojave_data/BD-29050A/20230520_000000.wav / 30120.000000) could not be loaded (embeddings already exist). The exception was (no_exception)\n",
            "WARNING:absl:The audio at (/workspace/mojave_data/BD-29050A/20230520_000000.wav / 30240.000000) could not be loaded (embeddings already exist). The exception was (no_exception)\n",
            "WARNING:absl:The audio at (/workspace/mojave_data/BD-29050A/20230520_000000.wav / 30420.000000) could not be loaded (embeddings already exist). The exception was (no_exception)\n",
            "WARNING:absl:The audio at (/workspace/mojave_data/BD-29050A/20230520_000000.wav / 30600.000000) could not be loaded (embeddings already exist). The exception was (no_exception)\n",
            "WARNING:absl:The audio at (/workspace/mojave_data/BD-29050A/20230520_000000.wav / 30720.000000) could not be loaded (embeddings already exist). The exception was (no_exception)\n",
            "WARNING:absl:The audio at (/workspace/mojave_data/BD-29050A/20230520_000000.wav / 30900.000000) could not be loaded (embeddings already exist). The exception was (no_exception)\n",
            "WARNING:absl:The audio at (/workspace/mojave_data/BD-29050A/20230520_000000.wav / 31080.000000) could not be loaded (embeddings already exist). The exception was (no_exception)\n",
            "WARNING:absl:The audio at (/workspace/mojave_data/BD-29050A/20230520_000000.wav / 31200.000000) could not be loaded (embeddings already exist). The exception was (no_exception)\n",
            "WARNING:absl:The audio at (/workspace/mojave_data/BD-29050A/20230520_000000.wav / 31380.000000) could not be loaded (embeddings already exist). The exception was (no_exception)\n",
            "WARNING:absl:The audio at (/workspace/mojave_data/BD-29050A/20230520_000000.wav / 31560.000000) could not be loaded (embeddings already exist). The exception was (no_exception)\n",
            "WARNING:absl:The audio at (/workspace/mojave_data/BD-29050A/20230520_000000.wav / 31680.000000) could not be loaded (embeddings already exist). The exception was (no_exception)\n",
            "WARNING:absl:The audio at (/workspace/mojave_data/BD-29050A/20230520_000000.wav / 31860.000000) could not be loaded (embeddings already exist). The exception was (no_exception)\n",
            "WARNING:absl:The audio at (/workspace/mojave_data/BD-29050A/20230520_000000.wav / 32040.000000) could not be loaded (embeddings already exist). The exception was (no_exception)\n",
            "WARNING:absl:The audio at (/workspace/mojave_data/BD-29050A/20230520_000000.wav / 32160.000000) could not be loaded (embeddings already exist). The exception was (no_exception)\n",
            "WARNING:absl:The audio at (/workspace/mojave_data/BD-29050A/20230520_000000.wav / 32340.000000) could not be loaded (embeddings already exist). The exception was (no_exception)\n",
            "100%|██████████| 1/1 [05:48<00:00, 349.00s/it]"
          ]
        },
        {
          "name": "stdout",
          "output_type": "stream",
          "text": [
            "\n",
            "\n",
            "Embedding complete, total embeddings:  4872\n"
          ]
        },
        {
          "name": "stderr",
          "output_type": "stream",
          "text": [
            "\n"
          ]
        }
      ],
      "source": [
        "#@title Run the embedding { vertical-output: true }\n",
        "\n",
        "print(f'Embedding dataset: {audio_glob.dataset_name}')\n",
        "\n",
        "worker = embed.EmbedWorker(\n",
        "    audio_sources=configs.audio_sources_config,\n",
        "    db=db,\n",
        "    model_config=configs.model_config)\n",
        "\n",
        "worker.process_all(target_dataset_name=audio_glob.dataset_name)\n",
        "\n",
        "print('\\n\\nEmbedding complete, total embeddings: ', db.count_embeddings())"
      ]
    },
    {
      "cell_type": "code",
      "execution_count": 5,
      "metadata": {
        "id": "HvVuFw-somHe"
      },
      "outputs": [
        {
          "name": "stdout",
          "output_type": "stream",
          "text": [
            "\n",
            "Dataset 'mojave_data':\n",
            "\tnum embeddings:  4872\n"
          ]
        }
      ],
      "source": [
        "#@title Per dataset statistics { vertical-output: true }\n",
        "\n",
        "for dataset in db.get_dataset_names():\n",
        "  print(f'\\nDataset \\'{dataset}\\':')\n",
        "  print('\\tnum embeddings: ', db.get_embeddings_by_source(dataset, source_id=None).shape[0])"
      ]
    },
    {
      "cell_type": "code",
      "execution_count": null,
      "metadata": {
        "collapsed": true,
        "id": "ihBNRbwuuwal"
      },
      "outputs": [
        {
          "name": "stdout",
          "output_type": "stream",
          "text": [
            "CPU times: user 88.5 ms, sys: 1.61 ms, total: 90.1 ms\n",
            "Wall time: 91.6 ms\n",
            "[1, 1049, 804, 1114, 189, 133, 170, 553, 2831, 1977, 127, 2528, 800, 817, 108, 646, 1828, 1888, 547, 91, 2165, 915, 292, 102, 572, 174, 2152, 134, 172, 1823, 799, 284, 2394, 1672, 285, 2104, 118, 2377, 1945, 905, 660, 381, 1545, 1710, 2406, 1740, 534, 575, 2348, 225, 1373, 739, 711, 227, 2160, 1731, 98, 1312, 440, 2027, 1056, 2084, 1753, 2917, 987, 419, 1188, 294, 533, 132, 993, 1369, 2109, 1098, 2076, 816, 1077, 222, 1532, 97, 730, 100, 1363, 107, 1094, 2875, 1573, 1997, 2231, 198, 1686, 1726, 1705, 1989, 226, 1035, 1516, 74, 1165, 2177, 471, 1311, 224, 497, 869, 878, 940, 1968, 153, 1084, 948, 1604, 1783, 2227, 1350, 1412, 1460, 1266, 205, 216, 437, 237, 1119, 1168, 2149, 1934, 580, 2009]\n"
          ]
        },
        {
          "ename": "",
          "evalue": "",
          "output_type": "error",
          "traceback": [
            "\u001b[1;31mThe Kernel crashed while executing code in the current cell or a previous cell. \n",
            "\u001b[1;31mPlease review the code in the cell(s) to identify a possible cause of the failure. \n",
            "\u001b[1;31mClick <a href='https://aka.ms/vscodeJupyterKernelCrash'>here</a> for more info. \n",
            "\u001b[1;31mView Jupyter <a href='command:jupyter.viewOutput'>log</a> for further details."
          ]
        }
      ],
      "source": [
        "#@title Show example embedding search\n",
        "#@markdown As an example (and to show that the embedding process worked), this\n",
        "#@markdown selects a single embedding from the database and outputs the embedding ids of the\n",
        "#@markdown top-K (k = 128) nearest neighbors in the database.\n",
        "\n",
        "q = db.get_embedding(db.get_one_embedding_id())\n",
        "%time results, scores = brutalism.brute_search(worker.db, query_embedding=q, search_list_size=128, score_fn=np.dot)\n",
        "print([int(r.embedding_id) for r in results])"
      ]
    }
  ],
  "metadata": {
    "colab": {
      "last_runtime": {
        "build_target": "//gdm/sustainability/perch:perch_notebook",
        "kind": "private"
      },
      "name": "v2_1_embed_unlabeled_audio.ipynb",
      "private_outputs": true,
      "provenance": [
        {
          "file_id": "1ePT3-fDB3kA3_T7trthFtu8xTJQWQBoQ",
          "timestamp": 1723499538314
        }
      ]
    },
    "kernelspec": {
      "display_name": "perch-hoplite-py3.11",
      "language": "python",
      "name": "python3"
    },
    "language_info": {
      "codemirror_mode": {
        "name": "ipython",
        "version": 3
      },
      "file_extension": ".py",
      "mimetype": "text/x-python",
      "name": "python",
      "nbconvert_exporter": "python",
      "pygments_lexer": "ipython3",
      "version": "3.11.13"
    }
  },
  "nbformat": 4,
  "nbformat_minor": 0
}
